{
  "nbformat": 4,
  "nbformat_minor": 0,
  "metadata": {
    "colab": {
      "name": "lstm.ipynb",
      "provenance": [],
      "collapsed_sections": []
    },
    "kernelspec": {
      "name": "python3",
      "display_name": "Python 3"
    },
    "language_info": {
      "name": "python"
    }
  },
  "cells": [
    {
      "cell_type": "markdown",
      "metadata": {
        "id": "n-bBcLRluwQK"
      },
      "source": [
        "**Sentiment analysis using LSTM**"
      ]
    },
    {
      "cell_type": "code",
      "metadata": {
        "id": "ADrcIz5Ox3y9"
      },
      "source": [
        "# Importing required libraries\n",
        "import nltk\n",
        "import pandas as pd\n",
        "import numpy as np\n",
        "from nltk.corpus import stopwords\n",
        "from wordcloud import WordCloud\n",
        "from textblob import Word\n",
        "from imblearn.over_sampling import SMOTE\n",
        "from sklearn.preprocessing import LabelEncoder\n",
        "from collections import Counter\n",
        "import wordcloud\n",
        "from sklearn.metrics import classification_report,confusion_matrix,accuracy_score\n",
        "from keras.models import Sequential\n",
        "from keras.preprocessing.text import Tokenizer\n",
        "from keras.preprocessing.sequence import pad_sequences\n",
        "from keras.layers import Dense, Embedding, LSTM, SpatialDropout1D\n",
        "from sklearn.model_selection import train_test_split \n",
        "import matplotlib.pyplot as plt                                                                                                                                  "
      ],
      "execution_count": 1,
      "outputs": []
    },
    {
      "cell_type": "code",
      "metadata": {
        "id": "_kZDnyR672qI"
      },
      "source": [
        "import warnings\n",
        "warnings.filterwarnings(\"ignore\")"
      ],
      "execution_count": 2,
      "outputs": []
    },
    {
      "cell_type": "code",
      "metadata": {
        "id": "n8jGp9EtzbIj"
      },
      "source": [
        "#Loading the dataset\n",
        "data = pd.read_csv('amazon_alexa.tsv',sep='\\t')\n",
        "\n",
        "# Creating a new column sentiment based on overall ratings\n",
        "def sentiments(df):\n",
        "  if df['rating'] > 3.0:\n",
        "    return 'Positive'\n",
        "  elif df['rating'] <= 3.0:\n",
        "    return 'Negative'\n",
        "\n",
        "data['sentiment'] = data.apply(sentiments, axis=1)    \n"
      ],
      "execution_count": 3,
      "outputs": []
    },
    {
      "cell_type": "code",
      "metadata": {
        "id": "VC9NJUgk0li_"
      },
      "source": [
        "# Creating a new column sentiment based on overall ratings\n",
        "def sentiments(df):\n",
        "  if df['rating'] > 3.0:\n",
        "    return 'Positive'\n",
        "  elif df['rating'] <= 3.0:\n",
        "    return 'Negative'\n",
        "\n",
        "data['sentiment'] = data.apply(sentiments, axis=1)    \n"
      ],
      "execution_count": 4,
      "outputs": []
    },
    {
      "cell_type": "code",
      "metadata": {
        "colab": {
          "base_uri": "https://localhost:8080/",
          "height": 206
        },
        "id": "rBU1zJc-1h_-",
        "outputId": "b4f972b2-6424-4f9c-c2e9-c5e49630a3d9"
      },
      "source": [
        "# Considering two features for performing sentiment analysis\n",
        "data_v1 = data[['verified_reviews','sentiment']]\n",
        "data_v1.head()"
      ],
      "execution_count": 30,
      "outputs": [
        {
          "output_type": "execute_result",
          "data": {
            "text/html": [
              "<div>\n",
              "<style scoped>\n",
              "    .dataframe tbody tr th:only-of-type {\n",
              "        vertical-align: middle;\n",
              "    }\n",
              "\n",
              "    .dataframe tbody tr th {\n",
              "        vertical-align: top;\n",
              "    }\n",
              "\n",
              "    .dataframe thead th {\n",
              "        text-align: right;\n",
              "    }\n",
              "</style>\n",
              "<table border=\"1\" class=\"dataframe\">\n",
              "  <thead>\n",
              "    <tr style=\"text-align: right;\">\n",
              "      <th></th>\n",
              "      <th>verified_reviews</th>\n",
              "      <th>sentiment</th>\n",
              "    </tr>\n",
              "  </thead>\n",
              "  <tbody>\n",
              "    <tr>\n",
              "      <th>0</th>\n",
              "      <td>Love my Echo!</td>\n",
              "      <td>Positive</td>\n",
              "    </tr>\n",
              "    <tr>\n",
              "      <th>1</th>\n",
              "      <td>Loved it!</td>\n",
              "      <td>Positive</td>\n",
              "    </tr>\n",
              "    <tr>\n",
              "      <th>2</th>\n",
              "      <td>Sometimes while playing a game, you can answer...</td>\n",
              "      <td>Positive</td>\n",
              "    </tr>\n",
              "    <tr>\n",
              "      <th>3</th>\n",
              "      <td>I have had a lot of fun with this thing. My 4 ...</td>\n",
              "      <td>Positive</td>\n",
              "    </tr>\n",
              "    <tr>\n",
              "      <th>4</th>\n",
              "      <td>Music</td>\n",
              "      <td>Positive</td>\n",
              "    </tr>\n",
              "  </tbody>\n",
              "</table>\n",
              "</div>"
            ],
            "text/plain": [
              "                                    verified_reviews sentiment\n",
              "0                                      Love my Echo!  Positive\n",
              "1                                          Loved it!  Positive\n",
              "2  Sometimes while playing a game, you can answer...  Positive\n",
              "3  I have had a lot of fun with this thing. My 4 ...  Positive\n",
              "4                                              Music  Positive"
            ]
          },
          "metadata": {},
          "execution_count": 30
        }
      ]
    },
    {
      "cell_type": "code",
      "metadata": {
        "id": "Mpfw-_hLn7NL"
      },
      "source": [
        "#Separating positive and negative review\n",
        "data_neg=data_v1[data_v1['sentiment']=='Negative']\n",
        "data_pos=data_v1[data_v1['sentiment']=='Positive']"
      ],
      "execution_count": 31,
      "outputs": []
    },
    {
      "cell_type": "code",
      "metadata": {
        "id": "y3Rhs09iowQH"
      },
      "source": [
        "#Picking only top 1000 positive review to overcome imbalances\n",
        "data_pos_filtered = data_pos.head(1000)"
      ],
      "execution_count": 32,
      "outputs": []
    },
    {
      "cell_type": "code",
      "metadata": {
        "id": "juS7FyV4FFbi"
      },
      "source": [
        "result = pd.concat([data_pos_filtered,data_neg])"
      ],
      "execution_count": 33,
      "outputs": []
    },
    {
      "cell_type": "code",
      "metadata": {
        "colab": {
          "base_uri": "https://localhost:8080/"
        },
        "id": "P54v3nsVpxuN",
        "outputId": "72002fe9-2d87-48f9-c4cf-3c6aad96402f"
      },
      "source": [
        "result.shape"
      ],
      "execution_count": 34,
      "outputs": [
        {
          "output_type": "execute_result",
          "data": {
            "text/plain": [
              "(1409, 2)"
            ]
          },
          "metadata": {},
          "execution_count": 34
        }
      ]
    },
    {
      "cell_type": "code",
      "metadata": {
        "id": "nfAz2GZspoQ_"
      },
      "source": [
        ""
      ],
      "execution_count": null,
      "outputs": []
    },
    {
      "cell_type": "code",
      "metadata": {
        "colab": {
          "base_uri": "https://localhost:8080/",
          "height": 197
        },
        "id": "zxoj9YSOhGyJ",
        "outputId": "9ae42b2b-b145-4bfc-fe10-4cfa77047e3e"
      },
      "source": [
        "#Word cloud\n",
        "common_words=''\n",
        "for i in result.verified_reviews:\n",
        "    i = str(i)\n",
        "    tokens = i.split()\n",
        "    common_words += \" \".join(tokens)+\" \"\n",
        "wordcloud = wordcloud.WordCloud().generate(common_words)\n",
        "plt.imshow(wordcloud, interpolation='bilinear')\n",
        "plt.axis(\"off\")\n",
        "plt.show()"
      ],
      "execution_count": 6,
      "outputs": [
        {
          "output_type": "display_data",
          "data": {
            "image/png": "[encoded data removed]",
            "text/plain": [
              "<Figure size 432x288 with 1 Axes>"
            ]
          },
          "metadata": {
            "needs_background": "light"
          }
        }
      ]
    },
    {
      "cell_type": "code",
      "metadata": {
        "colab": {
          "base_uri": "https://localhost:8080/"
        },
        "id": "KSJzrDvG66pb",
        "outputId": "ade517d6-0260-45ed-d0ef-a5667aba0cf1"
      },
      "source": [
        "#Check if there are any null values\n",
        "data_v1 = result[['verified_reviews','sentiment']]\n",
        "data_v1.isnull().sum()"
      ],
      "execution_count": 35,
      "outputs": [
        {
          "output_type": "execute_result",
          "data": {
            "text/plain": [
              "verified_reviews    0\n",
              "sentiment           0\n",
              "dtype: int64"
            ]
          },
          "metadata": {},
          "execution_count": 35
        }
      ]
    },
    {
      "cell_type": "code",
      "metadata": {
        "colab": {
          "base_uri": "https://localhost:8080/"
        },
        "id": "zr3cXHPm7Qtj",
        "outputId": "ce7597fb-aa80-4379-eeaf-dc811bc00901"
      },
      "source": [
        "#Checking class balance\n",
        "Counter(data_v1['sentiment'])"
      ],
      "execution_count": 36,
      "outputs": [
        {
          "output_type": "execute_result",
          "data": {
            "text/plain": [
              "Counter({'Negative': 409, 'Positive': 1000})"
            ]
          },
          "metadata": {},
          "execution_count": 36
        }
      ]
    },
    {
      "cell_type": "code",
      "metadata": {
        "colab": {
          "base_uri": "https://localhost:8080/"
        },
        "id": "K4tgXF892gIt",
        "outputId": "dda1ea9e-bfa3-4bca-8e5c-7abda09ed489"
      },
      "source": [
        "# Data cleaning / preprocessing\n",
        "nltk.download('stopwords')\n",
        "nltk.download('wordnet')"
      ],
      "execution_count": 37,
      "outputs": [
        {
          "output_type": "stream",
          "name": "stdout",
          "text": [
            "[nltk_data] Downloading package stopwords to /root/nltk_data...\n",
            "[nltk_data]   Package stopwords is already up-to-date!\n",
            "[nltk_data] Downloading package wordnet to /root/nltk_data...\n",
            "[nltk_data]   Package wordnet is already up-to-date!\n"
          ]
        },
        {
          "output_type": "execute_result",
          "data": {
            "text/plain": [
              "True"
            ]
          },
          "metadata": {},
          "execution_count": 37
        }
      ]
    },
    {
      "cell_type": "code",
      "metadata": {
        "id": "YuDzcNbt2vln"
      },
      "source": [
        "#Logic to remove uncessary noises from the reviews\n",
        "\n",
        "def cleaning(df, stop_words):\n",
        "    df['verified_reviews'] = df['verified_reviews'].apply(lambda x: \" \".join(x.lower() for x in x.split()))\n",
        "    #Replacing the special characters\n",
        "    df['verified_reviews'] = df['verified_reviews'].str.replace('[^\\w\\s]', '')\n",
        "    #Replacing the digits/numbers \n",
        "    df['verified_reviews'] = df['verified_reviews'].str.replace('\\d', '') \n",
        "    #Removing stop words\n",
        "    df['verified_reviews'] = df['verified_reviews'].apply(lambda x: \" \".join(x for x in x.split() if x not in stop_words))\n",
        "    #Lemmatization \n",
        "    df['verified_reviews'] = df['verified_reviews'].apply(lambda x: \" \".join([Word(x).lemmatize() for x in x.split()])) \n",
        "    return df\n",
        "\n",
        "\n",
        "stop_words = stopwords.words('english')\n",
        "data_v1=cleaning(data_v1, stop_words)\n",
        "\n"
      ],
      "execution_count": 38,
      "outputs": []
    },
    {
      "cell_type": "code",
      "metadata": {
        "colab": {
          "base_uri": "https://localhost:8080/",
          "height": 206
        },
        "id": "lKy6GHJo76hP",
        "outputId": "484e9ded-aa88-4b6b-9709-1b37050c6747"
      },
      "source": [
        "data_v1.head()"
      ],
      "execution_count": 39,
      "outputs": [
        {
          "output_type": "execute_result",
          "data": {
            "text/html": [
              "<div>\n",
              "<style scoped>\n",
              "    .dataframe tbody tr th:only-of-type {\n",
              "        vertical-align: middle;\n",
              "    }\n",
              "\n",
              "    .dataframe tbody tr th {\n",
              "        vertical-align: top;\n",
              "    }\n",
              "\n",
              "    .dataframe thead th {\n",
              "        text-align: right;\n",
              "    }\n",
              "</style>\n",
              "<table border=\"1\" class=\"dataframe\">\n",
              "  <thead>\n",
              "    <tr style=\"text-align: right;\">\n",
              "      <th></th>\n",
              "      <th>verified_reviews</th>\n",
              "      <th>sentiment</th>\n",
              "    </tr>\n",
              "  </thead>\n",
              "  <tbody>\n",
              "    <tr>\n",
              "      <th>0</th>\n",
              "      <td>love echo</td>\n",
              "      <td>Positive</td>\n",
              "    </tr>\n",
              "    <tr>\n",
              "      <th>1</th>\n",
              "      <td>loved</td>\n",
              "      <td>Positive</td>\n",
              "    </tr>\n",
              "    <tr>\n",
              "      <th>2</th>\n",
              "      <td>sometimes playing game answer question correct...</td>\n",
              "      <td>Positive</td>\n",
              "    </tr>\n",
              "    <tr>\n",
              "      <th>3</th>\n",
              "      <td>lot fun thing yr old learns dinosaur control l...</td>\n",
              "      <td>Positive</td>\n",
              "    </tr>\n",
              "    <tr>\n",
              "      <th>4</th>\n",
              "      <td>music</td>\n",
              "      <td>Positive</td>\n",
              "    </tr>\n",
              "  </tbody>\n",
              "</table>\n",
              "</div>"
            ],
            "text/plain": [
              "                                    verified_reviews sentiment\n",
              "0                                          love echo  Positive\n",
              "1                                              loved  Positive\n",
              "2  sometimes playing game answer question correct...  Positive\n",
              "3  lot fun thing yr old learns dinosaur control l...  Positive\n",
              "4                                              music  Positive"
            ]
          },
          "metadata": {},
          "execution_count": 39
        }
      ]
    },
    {
      "cell_type": "code",
      "metadata": {
        "id": "d4UDvP7P8eVi"
      },
      "source": [
        "# Encoded the target column\n",
        "lb=LabelEncoder()\n",
        "data_v1['sentiment'] = lb.fit_transform(data_v1['sentiment'])\n",
        "\n",
        "\n",
        "\n"
      ],
      "execution_count": 41,
      "outputs": []
    },
    {
      "cell_type": "code",
      "metadata": {
        "id": "yPzjiMenrdd_",
        "colab": {
          "base_uri": "https://localhost:8080/"
        },
        "outputId": "4c5bb9bc-b775-41d5-99b0-16ae2c5704e8"
      },
      "source": [
        "data_v1.shape   "
      ],
      "execution_count": 42,
      "outputs": [
        {
          "output_type": "execute_result",
          "data": {
            "text/plain": [
              "(1409, 2)"
            ]
          },
          "metadata": {},
          "execution_count": 42
        }
      ]
    },
    {
      "cell_type": "code",
      "metadata": {
        "id": "144LBfGy9w-k"
      },
      "source": [
        "#Maximum number of words to keep based on word frequency , Separator for word splitting\n",
        "tokenizer = Tokenizer(num_words=500, split=' ') \n",
        "tokenizer.fit_on_texts(data_v1['verified_reviews'].values)\n",
        "X = tokenizer.texts_to_sequences(data_v1['verified_reviews'].values)\n",
        "X = pad_sequences(X)"
      ],
      "execution_count": 43,
      "outputs": []
    },
    {
      "cell_type": "code",
      "metadata": {
        "id": "ABGogdlkigYK"
      },
      "source": [
        "#Saving the tokenizer as pickle file\n",
        "import pickle\n",
        "filename = 'tokenizer4.pkl'\n",
        "pickle.dump(tokenizer, open(filename, 'wb'))"
      ],
      "execution_count": 56,
      "outputs": []
    },
    {
      "cell_type": "code",
      "metadata": {
        "colab": {
          "base_uri": "https://localhost:8080/"
        },
        "id": "Sxd9uq98S--o",
        "outputId": "7763a244-3908-467a-d32b-7e3a2e0a6ab2"
      },
      "source": [
        "X.shape[1]"
      ],
      "execution_count": 44,
      "outputs": [
        {
          "output_type": "execute_result",
          "data": {
            "text/plain": [
              "112"
            ]
          },
          "metadata": {},
          "execution_count": 44
        }
      ]
    },
    {
      "cell_type": "code",
      "metadata": {
        "colab": {
          "base_uri": "https://localhost:8080/"
        },
        "id": "4IOax1q8O32X",
        "outputId": "4b44351e-819f-4835-b781-3e3c4ffee18a"
      },
      "source": [
        "#Model initialization\n",
        "model = Sequential()\n",
        "model.add(Embedding(500, 120, input_length = X.shape[1]))\n",
        "model.add(SpatialDropout1D(0.4))\n",
        "model.add(LSTM(176, dropout=0.2, recurrent_dropout=0.2))\n",
        "model.add(Dense(2,activation='softmax'))\n",
        "model.compile(loss = 'categorical_crossentropy', optimizer='adam', metrics = ['accuracy'])\n",
        "print(model.summary())                                                                                  \n",
        "                                                                                                                                         "
      ],
      "execution_count": 45,
      "outputs": [
        {
          "output_type": "stream",
          "name": "stdout",
          "text": [
            "Model: \"sequential_1\"\n",
            "_________________________________________________________________\n",
            " Layer (type)                Output Shape              Param #   \n",
            "=================================================================\n",
            " embedding_1 (Embedding)     (None, 112, 120)          60000     \n",
            "                                                                 \n",
            " spatial_dropout1d_1 (Spatia  (None, 112, 120)         0         \n",
            " lDropout1D)                                                     \n",
            "                                                                 \n",
            " lstm_1 (LSTM)               (None, 176)               209088    \n",
            "                                                                 \n",
            " dense_1 (Dense)             (None, 2)                 354       \n",
            "                                                                 \n",
            "=================================================================\n",
            "Total params: 269,442\n",
            "Trainable params: 269,442\n",
            "Non-trainable params: 0\n",
            "_________________________________________________________________\n",
            "None\n"
          ]
        }
      ]
    },
    {
      "cell_type": "code",
      "metadata": {
        "id": "VjQ0inab-Cf7"
      },
      "source": [
        "#Splitting the data into training and testing\n",
        "y=pd.get_dummies(data_v1['sentiment']).values\n",
        "X_train, X_test, y_train, y_test = train_test_split( X, y, test_size = 0.3, random_state = 42)"
      ],
      "execution_count": 46,
      "outputs": []
    },
    {
      "cell_type": "code",
      "metadata": {
        "colab": {
          "base_uri": "https://localhost:8080/"
        },
        "id": "Ack3ZAo3F--2",
        "outputId": "7549578e-bef1-41a3-abb3-f2872f2f0f43"
      },
      "source": [
        "#Model training\n",
        "batch_size=32\n",
        "model.fit(X_train, y_train, epochs = 5, batch_size=batch_size, verbose = 'auto')"
      ],
      "execution_count": 47,
      "outputs": [
        {
          "output_type": "stream",
          "name": "stdout",
          "text": [
            "Epoch 1/5\n",
            "31/31 [==============================] - 15s 420ms/step - loss: 0.5904 - accuracy: 0.7039\n",
            "Epoch 2/5\n",
            "31/31 [==============================] - 13s 410ms/step - loss: 0.5117 - accuracy: 0.7343\n",
            "Epoch 3/5\n",
            "31/31 [==============================] - 13s 416ms/step - loss: 0.3513 - accuracy: 0.8509\n",
            "Epoch 4/5\n",
            "31/31 [==============================] - 13s 410ms/step - loss: 0.2405 - accuracy: 0.8905\n",
            "Epoch 5/5\n",
            "31/31 [==============================] - 13s 416ms/step - loss: 0.2292 - accuracy: 0.9118\n"
          ]
        },
        {
          "output_type": "execute_result",
          "data": {
            "text/plain": [
              "<keras.callbacks.History at 0x7ff681c50910>"
            ]
          },
          "metadata": {},
          "execution_count": 47
        }
      ]
    },
    {
      "cell_type": "code",
      "metadata": {
        "colab": {
          "base_uri": "https://localhost:8080/"
        },
        "id": "EjoGPLYjQ-R5",
        "outputId": "481e067c-827a-49eb-c041-cc0c9ce2d0b5"
      },
      "source": [
        "#Model evaluation\n",
        "model.evaluate(X_test,y_test)"
      ],
      "execution_count": 48,
      "outputs": [
        {
          "output_type": "stream",
          "name": "stdout",
          "text": [
            "14/14 [==============================] - 1s 53ms/step - loss: 0.4598 - accuracy: 0.8109\n"
          ]
        },
        {
          "output_type": "execute_result",
          "data": {
            "text/plain": [
              "[0.4597603976726532, 0.8108747005462646]"
            ]
          },
          "metadata": {},
          "execution_count": 48
        }
      ]
    },
    {
      "cell_type": "code",
      "metadata": {
        "colab": {
          "base_uri": "https://localhost:8080/"
        },
        "id": "C0LWRrQ-1BmJ",
        "outputId": "0fffd584-92b8-4a9c-cb10-b3317312d656"
      },
      "source": [
        "#Saving the model\n",
        "model.save('finalmodel6')  "
      ],
      "execution_count": 49,
      "outputs": [
        {
          "output_type": "stream",
          "name": "stdout",
          "text": [
            "INFO:tensorflow:Assets written to: finalmodel6/assets\n"
          ]
        },
        {
          "output_type": "stream",
          "name": "stderr",
          "text": [
            "WARNING:absl:<keras.layers.recurrent.LSTMCell object at 0x7ff688640a90> has the same name 'LSTMCell' as a built-in Keras object. Consider renaming <class 'keras.layers.recurrent.LSTMCell'> to avoid naming conflicts when loading with `tf.keras.models.load_model`. If renaming is not possible, pass the object in the `custom_objects` parameter of the load function.\n"
          ]
        }
      ]
    },
    {
      "cell_type": "code",
      "metadata": {
        "colab": {
          "base_uri": "https://localhost:8080/"
        },
        "id": "37AUcnAA8UyK",
        "outputId": "72c21570-edf1-48ca-d2c5-fa4275c8f186"
      },
      "source": [
        "#Zipping the saved model folder\n",
        "!zip -r /content/file.zip /content/finalmodel6"
      ],
      "execution_count": 55,
      "outputs": [
        {
          "output_type": "stream",
          "name": "stdout",
          "text": [
            "  adding: content/finalmodel6/ (stored 0%)\n",
            "  adding: content/finalmodel6/keras_metadata.pb (deflated 87%)\n",
            "  adding: content/finalmodel6/saved_model.pb (deflated 89%)\n",
            "  adding: content/finalmodel6/variables/ (stored 0%)\n",
            "  adding: content/finalmodel6/variables/variables.data-00000-of-00001 (deflated 7%)\n",
            "  adding: content/finalmodel6/variables/variables.index (deflated 60%)\n",
            "  adding: content/finalmodel6/assets/ (stored 0%)\n"
          ]
        }
      ]
    },
    {
      "cell_type": "code",
      "metadata": {
        "id": "F_M7WFPOeSx7"
      },
      "source": [
        "#Predicting the test data\n",
        "y_pred = model.predict(X_test)\n"
      ],
      "execution_count": 50,
      "outputs": []
    },
    {
      "cell_type": "code",
      "metadata": {
        "colab": {
          "base_uri": "https://localhost:8080/"
        },
        "id": "Mg5HnfC8eeM1",
        "outputId": "d8af50fb-5bd5-4356-e715-458404561bdd"
      },
      "source": [
        "y_pred"
      ],
      "execution_count": 241,
      "outputs": [
        {
          "output_type": "execute_result",
          "data": {
            "text/plain": [
              "array([[4.9655355e-05, 9.9995029e-01],\n",
              "       [6.7865248e-03, 9.9321353e-01],\n",
              "       [1.8917178e-01, 8.1082821e-01],\n",
              "       ...,\n",
              "       [1.4504002e-02, 9.8549598e-01],\n",
              "       [2.5937126e-03, 9.9740630e-01],\n",
              "       [6.8764105e-02, 9.3123585e-01]], dtype=float32)"
            ]
          },
          "metadata": {},
          "execution_count": 241
        }
      ]
    },
    {
      "cell_type": "code",
      "metadata": {
        "id": "Ht34vNUswwIy"
      },
      "source": [
        "y_pred1=[]\n",
        "for i in y_pred:\n",
        "  if i[0]>i[1]:\n",
        "    y_pred1.append(0)\n",
        "  else:\n",
        "    y_pred1.append(1)\n"
      ],
      "execution_count": 57,
      "outputs": []
    },
    {
      "cell_type": "code",
      "metadata": {
        "id": "wZh7dIiZeiZB"
      },
      "source": [
        "ytest1=[]\n",
        "for i in y_test.tolist():\n",
        "  ytest1.append(i[1])"
      ],
      "execution_count": 58,
      "outputs": []
    },
    {
      "cell_type": "code",
      "metadata": {
        "colab": {
          "base_uri": "https://localhost:8080/"
        },
        "id": "eowCQak7yX7C",
        "outputId": "81808208-69bd-408e-c8c2-079df2655c36"
      },
      "source": [
        "print(classification_report(ytest1,y_pred1))"
      ],
      "execution_count": 59,
      "outputs": [
        {
          "output_type": "stream",
          "name": "stdout",
          "text": [
            "              precision    recall  f1-score   support\n",
            "\n",
            "           0       0.75      0.53      0.62       123\n",
            "           1       0.83      0.93      0.87       300\n",
            "\n",
            "    accuracy                           0.81       423\n",
            "   macro avg       0.79      0.73      0.75       423\n",
            "weighted avg       0.80      0.81      0.80       423\n",
            "\n"
          ]
        }
      ]
    },
    {
      "cell_type": "code",
      "metadata": {
        "id": "IbuNxmlgEXVc"
      },
      "source": [
        "X2 = tokenizer.texts_to_sequences([\"poor product poor performance\"])\n",
        "X2 = pad_sequences(X2, maxlen=112, dtype='int32', value=0)"
      ],
      "execution_count": 53,
      "outputs": []
    },
    {
      "cell_type": "code",
      "metadata": {
        "colab": {
          "base_uri": "https://localhost:8080/"
        },
        "id": "sXkymAjjP6bT",
        "outputId": "d35b97e7-a2a9-4283-c5fd-7f68ffd57549"
      },
      "source": [
        "y_pred2 = model.predict(X2) \n",
        "print(y_pred2)"
      ],
      "execution_count": 54,
      "outputs": [
        {
          "output_type": "stream",
          "name": "stdout",
          "text": [
            "[[0.7037456  0.29625443]]\n"
          ]
        }
      ]
    }
  ]
}